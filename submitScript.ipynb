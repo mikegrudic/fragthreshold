{
 "cells": [
  {
   "cell_type": "code",
   "execution_count": 1,
   "id": "artificial-burke",
   "metadata": {},
   "outputs": [
    {
     "ename": "SyntaxError",
     "evalue": "EOL while scanning string literal (<ipython-input-1-e5c6dc6aa7c7>, line 31)",
     "output_type": "error",
     "traceback": [
      "\u001b[0;36m  File \u001b[0;32m\"<ipython-input-1-e5c6dc6aa7c7>\"\u001b[0;36m, line \u001b[0;32m31\u001b[0m\n\u001b[0;31m    submit_command = \"sbatch \" + run_name + \".sh\"\"\u001b[0m\n\u001b[0m                                                  ^\u001b[0m\n\u001b[0;31mSyntaxError\u001b[0m\u001b[0;31m:\u001b[0m EOL while scanning string literal\n"
     ]
    }
   ],
   "source": [
    "from os import system, mkdir, chdir\n",
    "from glob import glob\n",
    "from os.path import isdir\n",
    "import numpy as np\n",
    "\n",
    "G = 4300.7 # gravitational constant in m/s - msun - pc units\n",
    "cs = 200 # isothermal sound speed in m/s (= pressure/density, appropriate for ISM at ~10K)\n",
    "sigma = 1e3 # surface density M/(pi R^2) in msun pc^-2 (this is arbitrary, just to set the dimensions of our problem - 1000 roughly corresponds to observed cores)\n",
    "\n",
    "infall_machs = np.logspace(0,3,7,base=2) # the list of infall mach #'s we want - ranges from 1 to 8, evenly spaced in log space (each is a certain % larger than the last, in a geometric progression)\n",
    "alphas = 0, 0.5, 1, 2, 4, 8 #list of turbulent virial parameters we want - 0 is no initial turbulence\n",
    "mus = 4, #np.inf, 4, 2, 1, 0.5, 0.25  # list of mass-to-flux ratios (greek letter mu) that we want - infinity is no magnetic field, ~0 is very strong magnetic field\n",
    "seeds = 42, #42, 2, 3 # different initial turbulent seed fields - so that we try a few different random samplings of the initial turbulence to make sure results are not a fluke\n",
    "sol_fracs = 0.5,  # 0, 1 # fraction of turbulent field in solenoidal modes \n",
    "\n",
    "for infall_mach in infall_machs:\n",
    "    for alpha in alphas:\n",
    "        for mu in mus:\n",
    "            for seed in seeds:                \n",
    "                for sol_frac in sol_fracs:\n",
    "                    print(infall_mach, alpha, mu, seed, sol_frac) \n",
    "                    R = cs**2 * infall_mach**2 / (np.pi * G * sigma) # cloud radius\n",
    "                    M = np.pi * sigma * R**2 # cloud mass\n",
    "                    Emag = (mu/0.4)**-2. # fraction of binding energy as magnetic energy\n",
    "\n",
    "                    Ngas = max(100 * infall_mach**4, 10000) # number of gas cells in the core proper - we might as well always have at least 10k, but in Guszejnov 2020 we showed you want to make sure it's at least ~100 Mach^4 as well for things to really be converged\n",
    "                    run_length = min(round((Ngas/1e4)**(5./3)), 48) # run length in hours\n",
    "\n",
    "                    run_name = \"mach%g_alpha%g_mu%g_sol%g_Res%d_%d\"%(round(infall_mach,2), round(alpha,2), round(mu,2), sol_frac, round(Ngas**(1./3)), seed) # this will be the unique identifier for the run - will want to create a new directory with this name\n",
    "                    chdir(run_name)\n",
    "                    submit_command = \"sbatch \" + run_name + \".sh\"\"\n",
    "                    system(submit_command)\n",
    "\n",
    "                    chdir(\"../\") # go back to the top level directory"
   ]
  },
  {
   "cell_type": "code",
   "execution_count": null,
   "id": "regulation-flashing",
   "metadata": {},
   "outputs": [],
   "source": []
  }
 ],
 "metadata": {
  "kernelspec": {
   "display_name": "Python 3",
   "language": "python",
   "name": "python3"
  },
  "language_info": {
   "codemirror_mode": {
    "name": "ipython",
    "version": 3
   },
   "file_extension": ".py",
   "mimetype": "text/x-python",
   "name": "python",
   "nbconvert_exporter": "python",
   "pygments_lexer": "ipython3",
   "version": "3.8.5"
  }
 },
 "nbformat": 4,
 "nbformat_minor": 5
}
