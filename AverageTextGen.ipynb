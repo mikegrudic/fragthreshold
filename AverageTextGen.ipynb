{
 "cells": [
  {
   "cell_type": "code",
   "execution_count": 5,
   "id": "interior-sussex",
   "metadata": {},
   "outputs": [
    {
     "name": "stdout",
     "output_type": "stream",
     "text": [
      "Using matplotlib backend: Qt5Agg\n",
      "Populating the interactive namespace from numpy and matplotlib\n"
     ]
    }
   ],
   "source": [
    "# %pylab includes matplotlib, numpy, scipy, most of the stuff you'd need for doing plot\n",
    "%pylab \n",
    "import os\n",
    "from os import chdir\n",
    "#import scipy.ndimage\n",
    "from scipy.interpolate import griddata\n",
    "#%matplotlib inline\n",
    "import matplotlib.pyplot as plt\n",
    "#plt.style.use('seaborn-white')\n",
    "import numpy as np\n",
    "#import matplotlib.tri as tri\n",
    "from scipy.interpolate import interp2d\n"
   ]
  },
  {
   "cell_type": "code",
   "execution_count": 6,
   "id": "italian-pacific",
   "metadata": {},
   "outputs": [],
   "source": [
    "infall_machs, alphas, mus, sol_fracs, Ngas, seeds, SFEs, Nstars, tenpercent_frac, Mmax_frac, M2_frac, firstStarTime = np.loadtxt(\"SimulationDataTime.dat\").T # the .T turns the array sideways so that it lines up with the tuple of variables on the left hand side"
   ]
  },
  {
   "cell_type": "code",
   "execution_count": 8,
   "id": "subsequent-monroe",
   "metadata": {},
   "outputs": [],
   "source": [
    "#Load Variables\n",
    "## USE THIS ON CODE WHERE variable[0] == BOGUS ENTRY TO SKIP IT\n",
    "SFEsum = 0\n",
    "NstarSum = 0\n",
    "TenPercentSum = 0\n",
    "MmaxFracSum = 0\n",
    "M2FracSum = 0\n",
    "firstTimeSum = 0\n",
    "numStarForm = 0\n",
    "#Parameters\n",
    "newMachList = []\n",
    "newAlphasList = []\n",
    "newMuList = []\n",
    "newSolList = []\n",
    "newNGasList = []\n",
    "#Averages\n",
    "SFEAvgList = []\n",
    "NStarAvgList = []\n",
    "TenPctFracAvgList = []\n",
    "MmaxFracAvgList = []\n",
    "M2FracAvgList = []\n",
    "firstStarTimeAvgList = []\n",
    "for i in range(1, 3025): #The first data-entry is bogus in my datafile so that the math works down the line. I checked to make sure this works properly.\n",
    "    \n",
    "    if(i%14!=0):\n",
    "        \n",
    "        if(math.isnan(Mmax_frac[i])):\n",
    "            MmaxFracSum+=0\n",
    "        else:\n",
    "            MmaxFracSum+=Mmax_frac[i]\n",
    "        if(math.isnan(M2_frac[i])):\n",
    "            M2FracSum+=0\n",
    "        else:\n",
    "            M2FracSum+=M2_frac[i]\n",
    "        if(math.isnan(firstStarTime[i])):\n",
    "            pass\n",
    "        else:\n",
    "            numStarForm+=1\n",
    "            firstTimeSum+=firstStarTime[i]\n",
    "\n",
    "        SFEsum+=SFEs[i]\n",
    "        NstarSum+=Nstars[i]\n",
    "        TenPercentSum+=tenpercent_frac[i]\n",
    "    if(i%14==0 and i!=0):\n",
    "        #Parameter List\n",
    "        newMachList.append(infall_machs[i])\n",
    "        newAlphasList.append(alphas[i])\n",
    "        newMuList.append(mus[i])\n",
    "        newSolList.append(sol_fracs[i])\n",
    "        newNGasList.append(Ngas[i])\n",
    "        #Averages List\n",
    "        SFEAvgList.append(SFEsum/14.0)\n",
    "        NStarAvgList.append(NstarSum/14.0)\n",
    "        TenPctFracAvgList.append(TenPercentSum/14.0)\n",
    "        MmaxFracAvgList.append(MmaxFracSum/14.0)\n",
    "        M2FracAvgList.append(M2FracSum/14.0)\n",
    "        try:\n",
    "            firstStarTimeAvgList.append(firstTimeSum/numStarForm)\n",
    "        except:\n",
    "            firstStarTimeAvgList.append(np.nan)\n",
    "        SFEsum = 0\n",
    "        NstarSum = 0\n",
    "        TenPercentSum = 0\n",
    "        MmaxFracSum = 0\n",
    "        M2FracSum = 0\n",
    "        firstTimeSum = 0\n",
    "        numStarForm = 0\n",
    "\n",
    "np.savetxt(\"SimulationDataAverages.dat\", np.c_[newMachList, newAlphasList, newMuList, newSolList, newNGasList, SFEAvgList, NStarAvgList, TenPctFracAvgList, MmaxFracAvgList, M2FracAvgList, firstStarTimeAvgList], \n",
    "           header = \"#(0) infall mach (1) alpha (2) mu (3) solenoidal fractino (4) Ngas (5) SFE (6) Nstars (7) > 10% mass frac (8) max mass frac (9) M2_frac (10) first star time\"\n",
    ")"
   ]
  },
  {
   "cell_type": "code",
   "execution_count": null,
   "id": "mineral-journalism",
   "metadata": {},
   "outputs": [],
   "source": []
  }
 ],
 "metadata": {
  "kernelspec": {
   "display_name": "Python 3",
   "language": "python",
   "name": "python3"
  },
  "language_info": {
   "codemirror_mode": {
    "name": "ipython",
    "version": 3
   },
   "file_extension": ".py",
   "mimetype": "text/x-python",
   "name": "python",
   "nbconvert_exporter": "python",
   "pygments_lexer": "ipython3",
   "version": "3.8.5"
  }
 },
 "nbformat": 4,
 "nbformat_minor": 5
}
