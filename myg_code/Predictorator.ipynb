{
 "cells": [
  {
   "cell_type": "code",
   "execution_count": 2,
   "metadata": {},
   "outputs": [
    {
     "name": "stdout",
     "output_type": "stream",
     "text": [
      "Using matplotlib backend: TkAgg\n",
      "Populating the interactive namespace from numpy and matplotlib\n"
     ]
    }
   ],
   "source": [
    "%pylab\n",
    "from scipy.stats import spearmanr\n",
    "from multiprocessing import Pool # this is so we can run in parallel"
   ]
  },
  {
   "cell_type": "code",
   "execution_count": 4,
   "metadata": {},
   "outputs": [
    {
     "name": "stderr",
     "output_type": "stream",
     "text": [
      "/home/mike/.local/lib/python3.7/site-packages/ipykernel_launcher.py:3: RuntimeWarning: invalid value encountered in less\n",
      "  This is separate from the ipykernel package so we can avoid doing imports until\n"
     ]
    },
    {
     "name": "stdout",
     "output_type": "stream",
     "text": [
      "[[0.00087905 0.01969457]\n",
      " [0.0008397  0.0197342 ]\n",
      " [0.0008025  0.01963858]\n",
      " [0.00080595 0.01981292]\n",
      " [0.00080982 0.01970403]\n",
      " [0.00079956 0.01969675]\n",
      " [0.00078355 0.0172821 ]\n",
      " [0.00078139 0.01746481]\n",
      " [0.0009835  0.01974849]\n",
      " [0.00097882 0.01964341]] [0.92458172 0.92458172 0.92458172 0.92458172 0.92458172 0.92458172\n",
      " 0.92483912 0.92483912 0.92561133 0.92561133]\n"
     ]
    },
    {
     "data": {
      "text/plain": [
       "<matplotlib.collections.PathCollection at 0x7f85d7213710>"
      ]
     },
     "execution_count": 4,
     "metadata": {},
     "output_type": "execute_result"
    }
   ],
   "source": [
    "#load up the data and filter out the stuff we don't want\n",
    "infall_machs, alphas, mus, sol_fracs, Ngas, seeds, SFEs, Nstars, tenpercent_frac, Mmax_frac, M2_frac = np.loadtxt(\"SimulationData.dat\").T # the .T turns the array sideways so that it lines up with the tuple of variables on the left hand side\n",
    "infall_machs, alphas, mus, sol_fracs, Ngas, seeds, SFEs, Nstars, tenpercent_frac, Mmax_frac, M2_frac = np.loadtxt(\"SimulationData.dat\")[(alphas>0)*(SFEs>0)*(Mmax_frac<1)].T # the .T turns the array sideways so that it lines up with the tuple of variables on the left hand side\n",
    "\n",
    "# this is the form of the function you are assuming, which has 2 free parameters X[0] and X[1]\n",
    "func = lambda X: infall_machs**-2 + X[0]*alphas**2 + X[1]*mus**-2 \n",
    "# this is the cloud of points in parameter space we will search\n",
    "grid = np.random.normal(size=(10**6,2)) # 10^6 points sampling from a normal distribution in 2D\n",
    "grid *= np.array([1e-3,1e-2]) # re-scaling each parameter to have the right order of magnitude (found through experimentation from a wider search)\n",
    "\n",
    "def GetSpearmanRank(X): # define a function that returns the Spearman rank correlation coefficient\n",
    "    return spearmanr(func(X), Mmax_frac)[0]\n",
    "\n",
    "ranks = Pool(16).map(GetSpearmanRank, grid) # run GetSpearmanRank on all elements of grid, on all 16 cores\n",
    "\n",
    "X = grid[np.abs(ranks).argmax()] # get the parameters that give the strongest correlation\n",
    "\n",
    "print(grid[np.abs(ranks).argsort()][-10:], np.sort(np.abs(ranks))[-10:]) # print the best 10 parameters - make sure they aren't all over the place, otherwise we might have too much parameter freedom\n",
    "plt.clf()\n",
    "plt.scatter(func(X), Mmax_frac,c=np.log10(alphas))\n"
   ]
  },
  {
   "cell_type": "code",
   "execution_count": null,
   "metadata": {},
   "outputs": [],
   "source": []
  }
 ],
 "metadata": {
  "kernelspec": {
   "display_name": "Python 3",
   "language": "python",
   "name": "python3"
  },
  "language_info": {
   "codemirror_mode": {
    "name": "ipython",
    "version": 3
   },
   "file_extension": ".py",
   "mimetype": "text/x-python",
   "name": "python",
   "nbconvert_exporter": "python",
   "pygments_lexer": "ipython3",
   "version": "3.7.9"
  }
 },
 "nbformat": 4,
 "nbformat_minor": 4
}
