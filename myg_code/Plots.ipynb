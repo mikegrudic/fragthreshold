{
 "cells": [
  {
   "cell_type": "markdown",
   "metadata": {},
   "source": [
    "Import stuff"
   ]
  },
  {
   "cell_type": "code",
   "execution_count": 40,
   "metadata": {},
   "outputs": [
    {
     "name": "stdout",
     "output_type": "stream",
     "text": [
      "Using matplotlib backend: TkAgg\n",
      "Populating the interactive namespace from numpy and matplotlib\n"
     ]
    }
   ],
   "source": [
    "# %pylab includes matplotlib, numpy, scipy, most of the stuff you'd need for doing plot\n",
    "%pylab "
   ]
  },
  {
   "cell_type": "markdown",
   "metadata": {},
   "source": [
    "Load in the data"
   ]
  },
  {
   "cell_type": "code",
   "execution_count": 50,
   "metadata": {},
   "outputs": [],
   "source": [
    "infall_machs, alphas, mus, sol_fracs, Ngas, seeds, SFEs, Nstars, tenpercent_frac, Mmax_frac, M2_frac = np.loadtxt(\"SimulationData.dat\").T # the .T turns the array sideways so that it lines up with the tuple of variables on the left hand side"
   ]
  },
  {
   "cell_type": "markdown",
   "metadata": {},
   "source": [
    "Do the infall mach vs. alpha panels"
   ]
  },
  {
   "cell_type": "code",
   "execution_count": 53,
   "metadata": {},
   "outputs": [
    {
     "name": "stderr",
     "output_type": "stream",
     "text": [
      "/home/mike/.local/lib/python3.7/site-packages/ipykernel_launcher.py:41: RuntimeWarning: divide by zero encountered in log10\n",
      "/home/mike/.local/lib/python3.7/site-packages/ipykernel_launcher.py:55: RuntimeWarning: divide by zero encountered in log10\n"
     ]
    }
   ],
   "source": [
    "# plot the mass fraction of the most massive thing\n",
    "\n",
    "mus_toplot = 1, 2, 4\n",
    "for mu in mus_toplot: # do a plot for each mu\n",
    "    idx = mus==mu # get only the ones with the value of mu that we want\n",
    "    no_stars = idx * (SFEs==0) # also get the ones that form no stars - note multiplication * is equivalent to a logical \"and\" operation    \n",
    "\n",
    "    \n",
    "    # plot max mass fraction\n",
    "    plt.clf()\n",
    "    fig, ax = plt.subplots()\n",
    "    \n",
    "    sc = ax.scatter(infall_machs[idx], alphas[idx], c=Mmax_frac[idx], cmap=plt.get_cmap('viridis'),vmin=0,vmax=1)\n",
    "    cbar = fig.colorbar(sc,pad=0,label=r\"$\\, M_{\\rm max}/M_{\\star, \\rm tot}$\")\n",
    "    for t in cbar.ax.get_yticklabels():\n",
    "         t.set_fontsize(8)\n",
    "            \n",
    "    ax.scatter(infall_machs[no_stars],alphas[no_stars],marker='x',color='black') # plot the stable ones as X's\n",
    "    \n",
    "    ax.set(xscale='log', yscale='log',xlabel=r\"$\\mathcal{M}_{\\rm infall}$\",ylabel=r\"$\\alpha_{\\rm turb}$\",xlim=[0.8,10],ylim=[0.25,10],title=r\"$\\mu=%g$\"%mu)\n",
    "    plt.savefig(\"mmax_mu%g.png\"%mu)    \n",
    "    \n",
    "    # plot mass fraction of the 2 most massive stars\n",
    "    plt.clf()\n",
    "    fig, ax = plt.subplots()\n",
    "    \n",
    "    sc = ax.scatter(infall_machs[idx], alphas[idx], c=(Mmax_frac[idx]+M2_frac[idx]), cmap=plt.get_cmap('viridis'),vmin=0,vmax=1)\n",
    "    cbar = fig.colorbar(sc,pad=0,label=r\"$\\, \\left(M_{\\rm 1}+M_{\\rm 2}\\right)/M_{\\star, \\rm tot}$\")\n",
    "    for t in cbar.ax.get_yticklabels():\n",
    "         t.set_fontsize(8)\n",
    "            \n",
    "    ax.scatter(infall_machs[no_stars],alphas[no_stars],marker='x',color='black') # plot the stable ones as X's\n",
    "    \n",
    "    ax.set(xscale='log', yscale='log',xlabel=r\"$\\mathcal{M}_{\\rm infall}$\",ylabel=r\"$\\alpha_{\\rm turb}$\",xlim=[0.8,10],ylim=[0.25,10],title=r\"$\\mu=%g$\"%mu)\n",
    "    plt.savefig(\"m12frac_mu%g.png\"%mu)    \n",
    "    \n",
    "    # plot the SFE\n",
    "    plt.clf()\n",
    "    fig, ax = plt.subplots()\n",
    "    \n",
    "    sc = ax.scatter(infall_machs[idx], alphas[idx], c=np.log10(SFEs[idx]),cmap=plt.get_cmap('viridis'), vmin=-2,vmax=0)\n",
    "    cbar = fig.colorbar(sc,pad=0,label=r\"$\\log \\, \\rm SFE$\")\n",
    "    for t in cbar.ax.get_yticklabels():\n",
    "         t.set_fontsize(8)\n",
    "            \n",
    "    ax.scatter(infall_machs[no_stars],alphas[no_stars],marker='x',color='black') # plot the stable ones as X's\n",
    "    \n",
    "    ax.set(xscale='log', yscale='log',xlabel=r\"$\\mathcal{M}_{\\rm infall}$\",ylabel=r\"$\\alpha_{\\rm turb}$\",xlim=[0.8,10],ylim=[0.25,10],title=r\"$\\mu=%g$\"%mu)\n",
    "    plt.savefig(\"SFE_mu%g.png\"%mu)    \n",
    "    \n",
    "    # plot the number of stars\n",
    "    plt.clf()\n",
    "    fig, ax = plt.subplots()\n",
    "    \n",
    "    sc = ax.scatter(infall_machs[idx], alphas[idx], c=np.log10(Nstars[idx]),cmap=plt.get_cmap('viridis'), vmin=0,vmax=2)\n",
    "    cbar = fig.colorbar(sc,pad=0,label=r\"$\\log \\, \\rm N_{\\rm \\star}$\")\n",
    "    for t in cbar.ax.get_yticklabels():\n",
    "         t.set_fontsize(8)\n",
    "            \n",
    "    ax.scatter(infall_machs[no_stars],alphas[no_stars],marker='x',color='black') # plot the stable ones as X's\n",
    "    \n",
    "    ax.set(xscale='log', yscale='log',xlabel=r\"$\\mathcal{M}_{\\rm infall}$\",ylabel=r\"$\\alpha_{\\rm turb}$\",xlim=[0.8,10],ylim=[0.25,10],title=r\"$\\mu=%g$\"%mu)\n",
    "    plt.savefig(\"Nstars_mu%g.png\"%mu)   "
   ]
  }
 ],
 "metadata": {
  "kernelspec": {
   "display_name": "Python 3",
   "language": "python",
   "name": "python3"
  },
  "language_info": {
   "codemirror_mode": {
    "name": "ipython",
    "version": 3
   },
   "file_extension": ".py",
   "mimetype": "text/x-python",
   "name": "python",
   "nbconvert_exporter": "python",
   "pygments_lexer": "ipython3",
   "version": "3.7.9"
  }
 },
 "nbformat": 4,
 "nbformat_minor": 4
}
